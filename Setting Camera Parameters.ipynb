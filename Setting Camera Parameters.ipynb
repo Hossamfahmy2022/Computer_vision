{
 "cells": [
  {
   "cell_type": "code",
   "execution_count": 2,
   "metadata": {},
   "outputs": [
    {
     "name": "stdout",
     "output_type": "stream",
     "text": [
      "640.0\n",
      "480.0\n",
      "1280.0\n",
      "720.0\n"
     ]
    }
   ],
   "source": [
    "import cv2\n",
    "cap = cv2.VideoCapture(0)\n",
    "print(cap.get(cv2.CAP_PROP_FRAME_WIDTH)) # default frame width\n",
    "print(cap.get(cv2.CAP_PROP_FRAME_HEIGHT)) # default frame height\n",
    "\n",
    "cap.set(3, 3000) #set your frame width\n",
    "cap.set(4, 3000) #set your frame height\n",
    "\n",
    "print(cap.get(3)) #get your frame width , 3 reprenset frame width\n",
    "print(cap.get(4)) #get your frame height , 4 reprenset frame height\n",
    "\n",
    "while(cap.isOpened()):#while camera is open\n",
    "    ret, frame = cap.read()#read frames        \n",
    "    if ret == True: #still there is a frame to process        \n",
    "     gray = cv2.cvtColor(frame, cv2.COLOR_BGR2GRAY)                 \n",
    "     cv2.imshow('frame', gray)                 \n",
    "     if cv2.waitKey(1) & 0xFF == ord('q'):#wait key from keyboard                 \n",
    "         break                     \n",
    "    else: #if ret=false         \n",
    "        break              \n",
    "\n",
    "cap.release()#close camera\n",
    "cv2.destroyAllWindows()#close window"
   ]
  },
  {
   "cell_type": "code",
   "execution_count": null,
   "metadata": {},
   "outputs": [],
   "source": []
  }
 ],
 "metadata": {
  "kernelspec": {
   "display_name": "Python 3",
   "language": "python",
   "name": "python3"
  },
  "language_info": {
   "codemirror_mode": {
    "name": "ipython",
    "version": 3
   },
   "file_extension": ".py",
   "mimetype": "text/x-python",
   "name": "python",
   "nbconvert_exporter": "python",
   "pygments_lexer": "ipython3",
   "version": "3.9.10"
  },
  "orig_nbformat": 4,
  "vscode": {
   "interpreter": {
    "hash": "d228cf3d11c5bb5c228f8fe30ace658cee5b67800ac159bde9428e7d1ba8c3f7"
   }
  }
 },
 "nbformat": 4,
 "nbformat_minor": 2
}
