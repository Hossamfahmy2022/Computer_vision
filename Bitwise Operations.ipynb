{
 "cells": [
  {
   "cell_type": "code",
   "execution_count": null,
   "metadata": {},
   "outputs": [],
   "source": [
    "# import cv2\n",
    "\n",
    "# import numpy as np\n",
    "\n",
    "# img1 = np.zeros((250, 500, 3), np.uint8)\n",
    "\n",
    "# img1 = cv2.rectangle(img1,(200, 0), (300, 100), (255, 255, 255), -1)\n",
    "\n",
    "# img2 = cv2.imread(\"1.png\")\n",
    "\n",
    "# bitAnd = cv2.bitwise_and(img2, img1)\n",
    "\n",
    "# bitOr = cv2.bitwise_or(img2, img1)\n",
    "\n",
    "# bitXor = cv2.bitwise_xor(img1, img2)\n",
    "\n",
    "# bitNot1 = cv2.bitwise_not(img1)\n",
    "\n",
    "# bitNot2 = cv2.bitwise_not(img2)\n",
    "\n",
    "# cv2.imshow(\"img1\", img1)\n",
    "\n",
    "# cv2.imshow(\"img2\", img2)\n",
    "\n",
    "# cv2.imshow('bitAnd', bitAnd)\n",
    "\n",
    "# cv2.imshow('bitOr', bitOr)\n",
    "\n",
    "# cv2.imshow('bitXor', bitXor)\n",
    "\n",
    "# cv2.imshow('bitNot1', bitNot1)\n",
    "\n",
    "# cv2.imshow('bitNot2', bitNot2)\n",
    "\n",
    "# cv2.waitKey(0)\n",
    "\n",
    "# cv2.destroyAllWindows() #colse window"
   ]
  },
  {
   "cell_type": "code",
   "execution_count": 2,
   "metadata": {},
   "outputs": [],
   "source": [
    "import cv2\n",
    "\n",
    "import numpy as np\n",
    "\n",
    "img1 = np.zeros((250, 500, 3), np.uint8)\n",
    "\n",
    "img1 = cv2.rectangle(img1,(200, 0), (300, 100), (255, 255, 255), -1)\n",
    "\n",
    "img2 = np.full((250, 500, 3),255, dtype=np.uint8)\n",
    "img2 = cv2.rectangle(img2,(0, 0), (250, 250), (0, 0, 0), -1)\n",
    "bitAnd = cv2.bitwise_and(img2, img1)\n",
    "cv2.imshow(\"img1\", img1)\n",
    "\n",
    "cv2.imshow(\"img2\", img2)\n",
    "cv2.imshow('bitAnd', bitAnd)\n",
    "cv2.waitKey(0)\n",
    "\n",
    "cv2.destroyAllWindows() #colse window"
   ]
  },
  {
   "cell_type": "code",
   "execution_count": 3,
   "metadata": {},
   "outputs": [],
   "source": [
    "import cv2\n",
    "\n",
    "import numpy as np\n",
    "\n",
    "img1 = np.zeros((250, 500, 3), np.uint8)\n",
    "\n",
    "img1 = cv2.rectangle(img1,(200, 0), (300, 100), (255, 255, 255), -1)\n",
    "\n",
    "img2 = np.full((250, 500, 3),255, dtype=np.uint8)\n",
    "img2 = cv2.rectangle(img2,(0, 0), (250, 250), (0, 0, 0), -1)\n",
    "bitOr = cv2.bitwise_or(img2, img1)\n",
    "cv2.imshow(\"img1\", img1)\n",
    "\n",
    "cv2.imshow(\"img2\", img2)\n",
    "cv2.imshow('bitOr', bitOr)\n",
    "cv2.waitKey(0)\n",
    "\n",
    "cv2.destroyAllWindows() #colse window"
   ]
  },
  {
   "cell_type": "code",
   "execution_count": 7,
   "metadata": {},
   "outputs": [],
   "source": [
    "import cv2\n",
    "\n",
    "import numpy as np\n",
    "\n",
    "img1 = np.zeros((250, 500, 3), np.uint8)\n",
    "\n",
    "img1 = cv2.rectangle(img1,(200, 0), (300, 100), (255, 255, 255), -1)\n",
    "\n",
    "img2 = np.full((250, 500, 3),255, dtype=np.uint8)\n",
    "img2 = cv2.rectangle(img2,(0, 0), (250, 250), (0, 0, 0), -1)\n",
    "bitXor = cv2.bitwise_xor(img2, img1)\n",
    "cv2.imshow(\"img1\", img1)\n",
    "\n",
    "cv2.imshow(\"img2\", img2)\n",
    "cv2.imshow('bitXor', bitXor)\n",
    "cv2.waitKey(0)\n",
    "\n",
    "cv2.destroyAllWindows() #colse window"
   ]
  },
  {
   "cell_type": "code",
   "execution_count": 4,
   "metadata": {},
   "outputs": [],
   "source": [
    "import cv2\n",
    "\n",
    "import numpy as np\n",
    "\n",
    "img1 = np.zeros((250, 500, 3), np.uint8)\n",
    "\n",
    "img1 = cv2.rectangle(img1,(200, 0), (300, 100), (255, 255, 255), -1)\n",
    "\n",
    "img2 = np.full((250, 500, 3),255, dtype=np.uint8)\n",
    "img2 = cv2.rectangle(img2,(0, 0), (250, 250), (0, 0, 0), -1)\n",
    "bitNot1 = cv2.bitwise_not(img1)\n",
    "bitNot2 = cv2.bitwise_not(img2)\n",
    "cv2.imshow(\"img1\", img1)\n",
    "\n",
    "cv2.imshow(\"img2\", img2)\n",
    "cv2.imshow('bitNot1', bitNot1)\n",
    "cv2.imshow('bitNot2', bitNot2)\n",
    "cv2.waitKey(0)\n",
    "\n",
    "cv2.destroyAllWindows() #colse window"
   ]
  },
  {
   "cell_type": "code",
   "execution_count": null,
   "metadata": {},
   "outputs": [],
   "source": [
    "import cv2 as cv\n",
    "import numpy as np\n",
    "\n",
    "img2=np.array((256,256,3),np.uint8)\n",
    "img1=cv.imread(\"1.jpg\")\n",
    "and_img=cv.bitwise_and(img1,img2)\n",
    "cv.imshow(\"image\",and_img)"
   ]
  }
 ],
 "metadata": {
  "kernelspec": {
   "display_name": "Python 3",
   "language": "python",
   "name": "python3"
  },
  "language_info": {
   "codemirror_mode": {
    "name": "ipython",
    "version": 3
   },
   "file_extension": ".py",
   "mimetype": "text/x-python",
   "name": "python",
   "nbconvert_exporter": "python",
   "pygments_lexer": "ipython3",
   "version": "3.9.10"
  },
  "orig_nbformat": 4,
  "vscode": {
   "interpreter": {
    "hash": "d228cf3d11c5bb5c228f8fe30ace658cee5b67800ac159bde9428e7d1ba8c3f7"
   }
  }
 },
 "nbformat": 4,
 "nbformat_minor": 2
}
