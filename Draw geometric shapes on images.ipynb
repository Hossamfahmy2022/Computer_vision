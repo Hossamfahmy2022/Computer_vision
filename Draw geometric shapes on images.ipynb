{
 "cells": [
  {
   "cell_type": "code",
   "execution_count": 1,
   "metadata": {},
   "outputs": [],
   "source": [
    "import cv2\n",
    "import numpy as np"
   ]
  },
  {
   "cell_type": "code",
   "execution_count": null,
   "metadata": {},
   "outputs": [],
   "source": [
    "\n",
    "#img = cv2.imread('lena.jpg', 1)\n",
    "img = np.zeros([512, 512, 3], np.uint8) #create image\n",
    "#              image,x_axis,y_axis,color(b,g,r),(thick line)   \n",
    "img = cv2.line(img, (0,0), (255,255), (147, 96, 44), 10) # 44, 96, 147 #draw line\n",
    "img = cv2.arrowedLine(img, (0,255), (255,255), (255, 0, 0), 10) #draw arrow\n",
    "\n",
    "img = cv2.rectangle(img, (384, 0), (510, 128), (0, 0, 255), 10) #draw rectangle\n",
    "img = cv2.circle(img, (447, 63), 63, (0, 255, 0), -1) #draw circle\n",
    "font = cv2.FONT_HERSHEY_SIMPLEX #type of font\n",
    "img = cv2.putText(img, 'OpenCv', (10, 500), font, 4, (0, 255, 255), 10, cv2.LINE_AA)# write a text\n",
    "img = cv2.ellipse(img,(256,256),(100,50),0,0,180,255,-1) #draw ellipse\n",
    "\n",
    "pts = np.array([[10,5],[20,30],[70,20],[50,10]], np.int32) #make array to draw it by polylines\n",
    "pts = pts.reshape((-1,1,2))#reshape it\n",
    "img = cv2.polylines(img,[pts],True,(0,255,255)) #draw polyline\n",
    "cv2.imshow('image', img)#show your work by window\n",
    "\n",
    "cv2.waitKey(0)#wait key from keyboard\n",
    "cv2.destroyAllWindows() #close any opened window\n",
    "#======"
   ]
  }
 ],
 "metadata": {
  "kernelspec": {
   "display_name": "Python 3",
   "language": "python",
   "name": "python3"
  },
  "language_info": {
   "codemirror_mode": {
    "name": "ipython",
    "version": 3
   },
   "file_extension": ".py",
   "mimetype": "text/x-python",
   "name": "python",
   "nbconvert_exporter": "python",
   "pygments_lexer": "ipython3",
   "version": "3.9.10"
  },
  "orig_nbformat": 4,
  "vscode": {
   "interpreter": {
    "hash": "d228cf3d11c5bb5c228f8fe30ace658cee5b67800ac159bde9428e7d1ba8c3f7"
   }
  }
 },
 "nbformat": 4,
 "nbformat_minor": 2
}
