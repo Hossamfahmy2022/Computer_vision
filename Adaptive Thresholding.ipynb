{
 "cells": [
  {
   "cell_type": "code",
   "execution_count": 1,
   "metadata": {},
   "outputs": [],
   "source": [
    "import cv2 as cv"
   ]
  },
  {
   "cell_type": "code",
   "execution_count": 5,
   "metadata": {},
   "outputs": [],
   "source": [
    "img=cv.imread(\"sudoku.png\",0) # gray scale\n",
    "ret,th1=cv.threshold(img,127,255,cv.THRESH_BINARY) # GLOBAL THRESHOLD can not deal with difference color in picture\n",
    "th2=cv.adaptiveThreshold(img,255,cv.ADAPTIVE_THRESH_MEAN_C,cv.THRESH_BINARY,111,2)\n",
    "th3=cv.adaptiveThreshold(img,255,cv.ADAPTIVE_THRESH_GAUSSIAN_C,cv.THRESH_BINARY,111,2)\n",
    "#ADAPTIVE_THRESH_MEAN_C\n",
    "# احنا هنقسم الصورة الى 111 جزء وهنحسب متوسط كل جزء ونجمعهم مع بعض ونطرح منهم قيمة السى وبعدين هنعدى على كل جزء نطبق علية البينرى بالقيمة اللى حسبناها\n",
    "#ADAPTIVE_THRESH_GAUSSIAN_C\n",
    "# احنا هنقسم الصورة الى 111 جزء وهنحسب متوسط كل جزء ونجمعهم مع بعض ولكن بطريقة المتوسطات النسبية ونطرح منهم قيمة السى وبعدين هنعدى على كل جزء نطبق علية البينرى بالقيمة اللى حسبناها\n",
    "cv.imshow(\"orinal\",img)\n",
    "cv.imshow(\"th1\", th1)\n",
    "cv.imshow(\"th2\", th2)\n",
    "cv.imshow(\"th3\", th3)\n",
    "cv.waitKey(0)\n",
    "cv.destroyAllWindows() #close window\n"
   ]
  }
 ],
 "metadata": {
  "kernelspec": {
   "display_name": "Python 3",
   "language": "python",
   "name": "python3"
  },
  "language_info": {
   "codemirror_mode": {
    "name": "ipython",
    "version": 3
   },
   "file_extension": ".py",
   "mimetype": "text/x-python",
   "name": "python",
   "nbconvert_exporter": "python",
   "pygments_lexer": "ipython3",
   "version": "3.9.10"
  },
  "orig_nbformat": 4
 },
 "nbformat": 4,
 "nbformat_minor": 2
}
