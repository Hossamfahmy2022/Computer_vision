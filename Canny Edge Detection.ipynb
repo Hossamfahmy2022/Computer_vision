{
 "cells": [
  {
   "cell_type": "code",
   "execution_count": null,
   "metadata": {},
   "outputs": [],
   "source": [
    "import cv2\n",
    "\n",
    "import numpy as np\n",
    "\n",
    "from matplotlib import pyplot as plt\n",
    "\n",
    "\n",
    "\n",
    "img = cv2.imread(\"lena.jpg\")\n",
    "\n",
    "img = cv2.cvtColor(img, cv2.COLOR_BGR2RGB)\n",
    "\n",
    "canny = cv2.Canny(img, 100, 200)\n",
    "\n",
    "\n",
    "\n",
    "titles = ['image', 'canny']\n",
    "\n",
    "images = [img, canny]\n",
    "\n",
    "for i in range(2):\n",
    "\n",
    "    plt.subplot(1, 2, i+1), plt.imshow(images[i], 'gray')     \n",
    "    \n",
    "    plt.title(titles[i])     \n",
    "\n",
    "    plt.xticks([]),plt.yticks([])#ticks     \n",
    "\n",
    "\n",
    "\n",
    "plt.show()#show"
   ]
  },
  {
   "cell_type": "code",
   "execution_count": null,
   "metadata": {},
   "outputs": [],
   "source": [
    "import cv2\n",
    "\n",
    "import numpy as np\n",
    "\n",
    "from matplotlib import pyplot as plt\n",
    "\n",
    "img = cv2.imread(\"messi5.jpg\", cv2.IMREAD_GRAYSCALE)\n",
    "\n",
    "lap = cv2.Laplacian(img, cv2.CV_64F, ksize=3)\n",
    "\n",
    "lap = np.uint8(np.absolute(lap))\n",
    "\n",
    "sobelX = cv2.Sobel(img, cv2.CV_64F, 1, 0)\n",
    "\n",
    "sobelY = cv2.Sobel(img, cv2.CV_64F, 0, 1)\n",
    "\n",
    "edges = cv2.Canny(img,100,200)\n",
    "\n",
    "sobelX = np.uint8(np.absolute(sobelX))\n",
    "\n",
    "sobelY = np.uint8(np.absolute(sobelY))\n",
    "\n",
    "sobelCombined = cv2.bitwise_or(sobelX, sobelY)\n",
    "\n",
    "titles = ['image', 'Laplacian', 'sobelX', 'sobelY', 'sobelCombined', 'Canny']\n",
    "\n",
    "images = [img, lap, sobelX, sobelY, sobelCombined, edges]\n",
    "\n",
    "for i in range(6):\n",
    "\n",
    "    plt.subplot(2, 3, i+1), plt.imshow(images[i], 'gray')      \n",
    "\n",
    "    plt.title(titles[i])      \n",
    "\n",
    "    plt.xticks([]),plt.yticks([])#ticks      \n",
    "\n",
    "plt.show()#show"
   ]
  },
  {
   "attachments": {},
   "cell_type": "markdown",
   "metadata": {},
   "source": [
    "resources"
   ]
  },
  {
   "attachments": {},
   "cell_type": "markdown",
   "metadata": {},
   "source": [
    "https://docs.opencv.org/4.x/da/d22/tutorial_py_canny.html"
   ]
  }
 ],
 "metadata": {
  "language_info": {
   "name": "python"
  },
  "orig_nbformat": 4
 },
 "nbformat": 4,
 "nbformat_minor": 2
}
