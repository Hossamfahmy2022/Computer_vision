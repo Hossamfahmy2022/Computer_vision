{
 "cells": [
  {
   "cell_type": "code",
   "execution_count": 5,
   "metadata": {},
   "outputs": [],
   "source": [
    "#import libriries\n",
    "import cv2 as cv   \n",
    "import numpy as np\n",
    "img = np.zeros((600, 900, 3), dtype=np.uint8) #create image\n",
    "#background\n",
    "cv.rectangle(img, (0,0),(900,500),(255,225,85), -1) #draw rectangle\n",
    "cv.rectangle(img, (0,500),(900,600),(75,180,70), -1) #draw rectangle\n",
    "#sun\n",
    "cv.circle(img, (200,150), 60, (0,255,255), -1) #draw circle\n",
    "cv.circle(img, (200,150), 75, (220,255,255), 10) #draw circle\n",
    "# *** TREE 1 ***\n",
    "#tree stem\n",
    "cv.line(img, (710, 500), (710, 420), (30,65,155), 15) #darw line\n",
    "\n",
    "#tree leafs\n",
    "\n",
    "triangle2 = np.array([[640,460],[780,460], [710,200]], dtype=np.int32) #array to darw fillpoly\n",
    "cv.fillPoly(img, [triangle2], (75,180,70))\n",
    "# *** TREE 2 ***\n",
    "#tree stem\n",
    "cv.line(img, (600, 500), (600, 420), (30,65,155), 25) #darw line\n",
    "\n",
    "#tree leafs\n",
    "triangle = np.array([[500,440],[700,440], [600,75]], dtype=np.int32) #array to darw the second fillpoly\n",
    "cv.fillPoly(img, [triangle], (75,200,70))\n",
    "\n",
    "#text\n",
    "font = cv.FONT_HERSHEY_SCRIPT_SIMPLEX #text type\n",
    "cv.putText(img, \"I Love Python\", (120,490), font, 1.5, (255,255,255), 2) #write text on image\n",
    "\n",
    "cv.imwrite(\"tree.png\", img) #save image\n",
    "cv.imshow(\"tree\", img) #show image\n",
    "cv.waitKey(0) #waitkey from keyboard\n",
    "cv.destroyAllWindows() #close any opened window"
   ]
  },
  {
   "cell_type": "code",
   "execution_count": null,
   "metadata": {},
   "outputs": [],
   "source": []
  }
 ],
 "metadata": {
  "kernelspec": {
   "display_name": "Python 3",
   "language": "python",
   "name": "python3"
  },
  "language_info": {
   "codemirror_mode": {
    "name": "ipython",
    "version": 3
   },
   "file_extension": ".py",
   "mimetype": "text/x-python",
   "name": "python",
   "nbconvert_exporter": "python",
   "pygments_lexer": "ipython3",
   "version": "3.9.10"
  },
  "orig_nbformat": 4,
  "vscode": {
   "interpreter": {
    "hash": "d228cf3d11c5bb5c228f8fe30ace658cee5b67800ac159bde9428e7d1ba8c3f7"
   }
  }
 },
 "nbformat": 4,
 "nbformat_minor": 2
}
