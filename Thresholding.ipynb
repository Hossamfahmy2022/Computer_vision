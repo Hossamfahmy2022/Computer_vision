{
 "cells": [
  {
   "cell_type": "code",
   "execution_count": 9,
   "metadata": {},
   "outputs": [],
   "source": [
    "import cv2 as cv\n",
    "\n",
    "import numpy as np\n",
    "# Global threshold\n",
    "\n",
    "img = cv.imread('gradient.png',0)\n",
    "\n",
    "_, th1 = cv.threshold(img, 50, 255, cv.THRESH_BINARY)      # value >thresold(127) -- >1 else 0\n",
    "\n",
    "_, th2 = cv.threshold(img, 200, 255, cv.THRESH_BINARY_INV) # value < thresold(127) -- >1 else 0\n",
    "\n",
    "_, th3 = cv.threshold(img, 127, 255, cv.THRESH_TRUNC) # value < thresold(127) -- >thresold else keep it\n",
    "\n",
    "_, th4 = cv.threshold(img, 127, 255, cv.THRESH_TOZERO) # value < thresold(127) -- >0 else keep it\n",
    "\n",
    "_, th5 = cv.threshold(img, 127, 255, cv.THRESH_TOZERO_INV)# value > thresold(127) -- >0 else keep it\n"
   ]
  },
  {
   "cell_type": "code",
   "execution_count": 10,
   "metadata": {},
   "outputs": [],
   "source": [
    "cv.imshow(\"Image\", img)\n",
    "\n",
    "cv.imshow(\"th1\", th1)\n",
    "\n",
    "cv.imshow(\"th2\", th2)\n",
    "\n",
    "cv.imshow(\"th3\", th3)\n",
    "\n",
    "cv.imshow(\"th4\", th4)\n",
    "\n",
    "cv.imshow(\"th5\", th5)\n",
    "\n",
    "cv.waitKey(0)\n",
    "\n",
    "cv.destroyAllWindows() #close window"
   ]
  },
  {
   "cell_type": "code",
   "execution_count": null,
   "metadata": {},
   "outputs": [],
   "source": []
  }
 ],
 "metadata": {
  "kernelspec": {
   "display_name": "Python 3",
   "language": "python",
   "name": "python3"
  },
  "language_info": {
   "codemirror_mode": {
    "name": "ipython",
    "version": 3
   },
   "file_extension": ".py",
   "mimetype": "text/x-python",
   "name": "python",
   "nbconvert_exporter": "python",
   "pygments_lexer": "ipython3",
   "version": "3.9.10"
  },
  "orig_nbformat": 4
 },
 "nbformat": 4,
 "nbformat_minor": 2
}
