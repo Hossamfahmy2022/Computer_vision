{
 "cells": [
  {
   "cell_type": "code",
   "execution_count": 5,
   "metadata": {},
   "outputs": [],
   "source": [
    "import numpy as np\n",
    "import cv2\n",
    "\n",
    "#events = [i for i in dir(cv2) if 'EVENT' in  i]\n",
    "#print(events)\n",
    "\n",
    "def click_event(event, x, y, flags, param):#events\n",
    "\n",
    "    if event == cv2.EVENT_LBUTTONDOWN: #l       \n",
    "\n",
    "        blue = img[y, x, 0]                   \n",
    "\n",
    "        green = img[y, x, 1]                   \n",
    "\n",
    "        red = img[y, x, 2]                   \n",
    "\n",
    "        mycolorimage= np.zeros((512, 512, 3), np.uint8)              \n",
    "\n",
    "        mycolorimage[:]=[blue,green,red]                  \n",
    "\n",
    "        cv2.imshow('image', mycolorimage)          \n",
    "\n",
    "            \n",
    "#img = np.zeros((512, 512, 3), np.uint8)\n",
    "\n",
    "img = cv2.imread('1.jpg')\n",
    "\n",
    "cv2.imshow('image', img)\n",
    "\n",
    "cv2.setMouseCallback('image', click_event)\n",
    "\n",
    "cv2.waitKey(0)\n",
    "\n",
    "cv2.destroyAllWindows() #close window"
   ]
  },
  {
   "cell_type": "code",
   "execution_count": 3,
   "metadata": {},
   "outputs": [],
   "source": [
    "import numpy as np\n",
    "import cv2\n",
    "\n",
    "#events = [i for i in dir(cv2) if 'EVENT' in  i]\n",
    "#print(events)\n",
    "\n",
    "def click_event(event, x, y, flags, param):#events\n",
    "\n",
    "    if event == cv2.EVENT_LBUTTONDOWN: #l       \n",
    "\n",
    "        points.append((x,y))\n",
    "        if(len(points)>=2):\n",
    "            cv2.line(img,points[-1],points[-2],(0,0,255))\n",
    "            cv2.imshow('image', img)     \n",
    "\n",
    "                \n",
    "\n",
    "                           \n",
    "\n",
    "#img = np.zeros((512, 512, 3), np.uint8)\n",
    "\n",
    "img = cv2.imread('1.jpg')\n",
    "points=[]\n",
    "cv2.imshow('image', img)\n",
    "\n",
    "cv2.setMouseCallback('image', click_event)\n",
    "\n",
    "cv2.waitKey(0)\n",
    "\n",
    "cv2.destroyAllWindows() #close window"
   ]
  },
  {
   "cell_type": "code",
   "execution_count": null,
   "metadata": {},
   "outputs": [],
   "source": []
  }
 ],
 "metadata": {
  "kernelspec": {
   "display_name": "Python 3",
   "language": "python",
   "name": "python3"
  },
  "language_info": {
   "codemirror_mode": {
    "name": "ipython",
    "version": 3
   },
   "file_extension": ".py",
   "mimetype": "text/x-python",
   "name": "python",
   "nbconvert_exporter": "python",
   "pygments_lexer": "ipython3",
   "version": "3.9.10"
  },
  "orig_nbformat": 4,
  "vscode": {
   "interpreter": {
    "hash": "d228cf3d11c5bb5c228f8fe30ace658cee5b67800ac159bde9428e7d1ba8c3f7"
   }
  }
 },
 "nbformat": 4,
 "nbformat_minor": 2
}
